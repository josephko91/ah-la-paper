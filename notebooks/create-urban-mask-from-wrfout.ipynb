{
 "cells": [
  {
   "cell_type": "code",
   "execution_count": null,
   "id": "e68ee934",
   "metadata": {},
   "outputs": [],
   "source": [
    "import xarray as xr         # For handling NetCDF data\n",
    "import numpy as np          # For array operations\n",
    "import geopandas as gpd     # For geospatial dataframes and file I/O\n",
    "from shapely.geometry import Point  # For creating point geometries\n",
    "import xwrf"
   ]
  },
  {
   "cell_type": "code",
   "execution_count": null,
   "id": "d133625e",
   "metadata": {},
   "outputs": [],
   "source": [
    "# get WRF urban mask\n",
    "wrfout_sample = '/project2/zhan248_1326/hhao4018/WRFv4.6.1_Modified_AHoption_noChem/test/JOE_Default_2016_08_ah=0/wrfout_d02_2016-08-12_20:00:00'\n",
    "ds_temp = xr.open_dataset(wrfout_sample).xwrf.postprocess()\n",
    "frc_urb2d = ds_temp['FRC_URB2D'][0]\n",
    "wrf_urban_mask = (frc_urb2d > 0)\n",
    "\n",
    "# save as geopackage\n",
    "# Get lat/lon coordinates\n",
    "lat = ds_temp['XLAT']\n",
    "lon = ds_temp['XLONG']\n",
    "\n",
    "# Flatten arrays and filter for urban cells\n",
    "urban_lats = lat.values[wrf_urban_mask.values]\n",
    "urban_lons = lon.values[wrf_urban_mask.values]\n",
    "\n",
    "# Create GeoDataFrame of urban points\n",
    "gdf = gpd.GeoDataFrame(\n",
    "    geometry=[Point(lon, lat) for lon, lat in zip(urban_lons, urban_lats)],\n",
    "    crs=\"EPSG:4326\"\n",
    ")\n",
    "\n",
    "# Save to file (GeoPackage recommended)\n",
    "gdf.to_file(\"/home1/kojoseph/ah-la-paper/data/wrf_urban_mask.gpkg\", driver=\"GPKG\")"
   ]
  },
  {
   "cell_type": "code",
   "execution_count": null,
   "id": "347b2d0e",
   "metadata": {},
   "outputs": [],
   "source": []
  }
 ],
 "metadata": {
  "language_info": {
   "name": "python"
  }
 },
 "nbformat": 4,
 "nbformat_minor": 5
}
